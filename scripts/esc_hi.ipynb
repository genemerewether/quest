{
 "cells": [
  {
   "cell_type": "code",
   "execution_count": null,
   "metadata": {},
   "outputs": [],
   "source": [
    "import numpy as np\n",
    "import pandas as pd\n",
    "import os\n",
    "from scipy import optimize\n",
    "\n",
    "%matplotlib inline\n",
    "import matplotlib.pyplot as plt\n",
    "plt.rcParams['figure.figsize'] = [20, 10]"
   ]
  },
  {
   "cell_type": "code",
   "execution_count": null,
   "metadata": {},
   "outputs": [],
   "source": [
    "def align_yaxis(ax1, v1, ax2, v2):\n",
    "    \"\"\"adjust ax2 ylimit so that v2 in ax2 is aligned to v1 in ax1\"\"\"\n",
    "    _, y1 = ax1.transData.transform((0, v1))\n",
    "    _, y2 = ax2.transData.transform((0, v2))\n",
    "    adjust_yaxis(ax2,(y1-y2)/2,v2)\n",
    "    adjust_yaxis(ax1,(y2-y1)/2,v1)\n",
    "\n",
    "def adjust_yaxis(ax,ydif,v):\n",
    "    \"\"\"shift axis ax by ydiff, maintaining point v at the same location\"\"\"\n",
    "    inv = ax.transData.inverted()\n",
    "    _, dy = inv.transform((0, 0)) - inv.transform((0, ydif))\n",
    "    miny, maxy = ax.get_ylim()\n",
    "    miny, maxy = miny - v, maxy - v\n",
    "    if -miny>maxy or (-miny==maxy and dy > 0):\n",
    "        nminy = miny\n",
    "        nmaxy = miny*(maxy+dy)/(miny+dy)\n",
    "    else:\n",
    "        nmaxy = maxy\n",
    "        nminy = maxy*(miny+dy)/(maxy+dy)\n",
    "    ax.set_ylim(nminy+v, nmaxy+v)\n",
    "    \n",
    "def fit(x, x0, x1, b, k1, k2, k3):\n",
    "    condlist = [x < x0, (x >= x0) & (x < x1), x >= x1]\n",
    "    funclist = [lambda x: k1*x + b, lambda x: k1*x0 + b + k2*(x-x0), lambda x: k1*x0 + b + k2*(x1-x0) + k3*(x - x1)]\n",
    "    return np.piecewise(x, condlist, funclist)\n",
    "\n",
    "def invfit(x, x0, x1, b, k1, k2, k3):\n",
    "    condlist = [x < k1*x0+b, (x >= k1*x0+b) & (x < k1*x0 + b + k2*(x1-x0)), x >= k1*x0 + b + k2*(x1-x0)]\n",
    "    funclist = [lambda x: (x - b) / k1, lambda x: (x - k1*x0 - b) / k2 + x0, lambda x: (x - k1*x0 - b - k2*(x1-x0)) / k3 + x1]\n",
    "    return np.piecewise(x, condlist, funclist)\n",
    "\n",
    "def getinvcoeffs(x0, x1, b, k1, k2, k3):\n",
    "    return np.array([k1*x0+b, k1*x0 + b + k2*(x1-x0), -b / k1, 1.0/k1, 1.0/k2, 1.0/k3])"
   ]
  },
  {
   "cell_type": "code",
   "execution_count": null,
   "metadata": {},
   "outputs": [],
   "source": [
    "file1=os.path.expanduser('~/Documents/log/2019-01-16T17-39-28/logstream_ActAdapEsc.bin')\n",
    "#file2=os.path.expanduser('~/Documents/log/2019-01-08T15-00-00/logstream_ActAdapEsc.bin')"
   ]
  },
  {
   "cell_type": "code",
   "execution_count": null,
   "metadata": {},
   "outputs": [],
   "source": [
    "dt = np.dtype([('idx', '>u1'),\n",
    "               ('cmdSec', '>u4'), ('cmdUsec', '>u4'), ('cmd', '>u4'), ('cmdVel', '>f8'),\n",
    "               ('fbSec', '>u4'), ('fbUsec', '>u4'), ('angVel', '>f8'),\n",
    "               \n",
    "               ('length', '>u2'),\n",
    "               ('counts', '>u2'),\n",
    "               ('voltage', '>u2'),\n",
    "               ('temperature', '>u2'),\n",
    "               ('current', '>u2'),\n",
    "               ('id', 'u1')])"
   ]
  },
  {
   "cell_type": "code",
   "execution_count": null,
   "metadata": {},
   "outputs": [],
   "source": [
    "data1 = np.fromfile(file1, dtype=dt)\n",
    "df1 = pd.DataFrame(data1.byteswap().newbyteorder())\n",
    "\n",
    "#data2 = np.fromfile(file2, dtype=dt)\n",
    "#df2 = pd.DataFrame(data2.byteswap().newbyteorder())\n",
    "\n",
    "mot0=df1.loc[(df1['idx'] == 0) & (df1['cmd'] <= 800)]\n",
    "mot1=df1.loc[(df1['idx'] == 1) & (df1['cmd'] <= 800)]\n",
    "mot2=df1.loc[(df1['idx'] == 2) & (df1['cmd'] <= 800)]\n",
    "mot3=df1.loc[(df1['idx'] == 3) & (df1['cmd'] <= 800)]\n",
    "\n",
    "mot0_cmdTime = mot0.cmdSec + mot0.cmdUsec / (1000.0 * 1000.0)\n",
    "mot1_cmdTime = mot1.cmdSec + mot1.cmdUsec / (1000.0 * 1000.0)\n",
    "mot2_cmdTime = mot2.cmdSec + mot2.cmdUsec / (1000.0 * 1000.0)\n",
    "mot3_cmdTime = mot3.cmdSec + mot3.cmdUsec / (1000.0 * 1000.0)\n",
    "\n",
    "mot0_fbTime = mot0.fbSec + mot0.fbUsec / (1000.0 * 1000.0)\n",
    "mot1_fbTime = mot1.fbSec + mot1.fbUsec / (1000.0 * 1000.0)\n",
    "mot2_fbTime = mot2.fbSec + mot2.fbUsec / (1000.0 * 1000.0)\n",
    "mot3_fbTime = mot3.fbSec + mot3.fbUsec / (1000.0 * 1000.0)\n",
    "\n",
    "#df1=df1.loc[(df1['id'] == 171) & (df1['idx'] == 0)]\n",
    "#df2=df2.loc[(df2['id'] == 171) & (df2['idx'] == 0)]"
   ]
  },
  {
   "cell_type": "code",
   "execution_count": null,
   "metadata": {},
   "outputs": [],
   "source": [
    "cmdHi = mot0.cmd[(mot0.cmd > 400) & (mot0.angVel > 2000)].values.astype(\"float64\")\n",
    "angVelHi = mot0.angVel[(mot0.cmd > 400) & (mot0.angVel > 2000)].values\n",
    "A = np.vstack([cmdHi, np.ones(len(cmdHi))]).T\n",
    "mHi, cHi = np.linalg.lstsq(A, angVelHi)[0]\n",
    "print mHi, cHi\n",
    "plt.plot(cmdHi, angVelHi, '*')\n",
    "plt.plot(cmdHi, mHi*cmdHi + cHi)"
   ]
  },
  {
   "cell_type": "code",
   "execution_count": null,
   "metadata": {},
   "outputs": [],
   "source": [
    "cmdMed = mot0.cmd[(mot0.cmd > 100) & (mot0.angVel > 1000)].values.astype(\"float64\")\n",
    "angVelMed = mot0.angVel[(mot0.cmd > 100) & (mot0.angVel > 1000)].values\n",
    "A = np.vstack([cmdMed, np.ones(len(cmdMed))]).T\n",
    "mMed, cMed = np.linalg.lstsq(A, angVelMed)[0]\n",
    "print mMed, cMed\n",
    "plt.plot(cmdMed, angVelMed, '*')\n",
    "plt.plot(cmdMed, mMed*cmdMed + cMed)"
   ]
  },
  {
   "cell_type": "code",
   "execution_count": null,
   "metadata": {},
   "outputs": [],
   "source": [
    "cmdLow = mot0.cmd[(mot0.cmd > 0) & (mot0.cmd < 200) & (mot0.angVel < 1200)].values.astype(\"float64\")\n",
    "angVelLow = mot0.angVel[(mot0.cmd > 0) & (mot0.cmd < 200) & (mot0.angVel < 1200)].values\n",
    "A = np.vstack([cmdLow, np.ones(len(cmdLow))]).T\n",
    "mLow, cLow = np.linalg.lstsq(A, angVelLow)[0]\n",
    "print mLow, cLow\n",
    "plt.plot(cmdLow, angVelLow, '*')\n",
    "plt.plot(cmdLow, mLow*cmdLow + cLow)"
   ]
  },
  {
   "cell_type": "code",
   "execution_count": null,
   "metadata": {},
   "outputs": [],
   "source": [
    "ax1=plt.subplot(2, 1, 1)\n",
    "\n",
    "ax1.plot(mot0_cmdTime, mot0.cmd, 'b')\n",
    "ax1.plot(mot0_fbTime, np.clip(invfit(mot0.angVel.values, 100, 300, 600, 6, 3.5, 2.14), 0, None), 'go',\n",
    "         linestyle='None', markersize=1)\n",
    "\n",
    "#ax2=plt.subplot(2, 1, 2)\n",
    "#ax2.plot(mot0_cmdTime, mot0.cmdVel - mot0.angVel)"
   ]
  },
  {
   "cell_type": "code",
   "execution_count": null,
   "metadata": {},
   "outputs": [],
   "source": [
    "cmd = mot0.cmd.values.astype(\"float64\")\n",
    "angVel = mot0.angVel.values\n",
    "plt.plot(cmd, angVel, '*')\n",
    "plt.plot(cmd, fit(cmd, 100, 300, 600, 6, 3.5, 2.14), 'go', linestyle='None')\n",
    "plt.plot(cmdLow, mLow*cmdLow + cLow)\n",
    "plt.plot(cmdMed, mMed*cmdMed + cMed)\n",
    "plt.plot(cmdHi, mHi*cmdHi + cHi)"
   ]
  },
  {
   "cell_type": "code",
   "execution_count": null,
   "metadata": {},
   "outputs": [],
   "source": []
  }
 ],
 "metadata": {
  "kernelspec": {
   "display_name": "Python 2",
   "language": "python",
   "name": "python2"
  },
  "language_info": {
   "codemirror_mode": {
    "name": "ipython",
    "version": 2
   },
   "file_extension": ".py",
   "mimetype": "text/x-python",
   "name": "python",
   "nbconvert_exporter": "python",
   "pygments_lexer": "ipython2",
   "version": "2.7.6"
  }
 },
 "nbformat": 4,
 "nbformat_minor": 2
}

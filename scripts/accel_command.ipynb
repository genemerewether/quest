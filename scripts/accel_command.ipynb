{
 "cells": [
  {
   "cell_type": "code",
   "execution_count": null,
   "metadata": {},
   "outputs": [],
   "source": [
    "import numpy as np\n",
    "import pandas as pd\n",
    "import os\n",
    "\n",
    "%matplotlib inline\n",
    "import matplotlib.pyplot as plt\n",
    "plt.rcParams['figure.figsize'] = [20, 10]"
   ]
  },
  {
   "cell_type": "code",
   "execution_count": null,
   "metadata": {},
   "outputs": [],
   "source": [
    "def align_yaxis(ax1, v1, ax2, v2):\n",
    "    \"\"\"adjust ax2 ylimit so that v2 in ax2 is aligned to v1 in ax1\"\"\"\n",
    "    _, y1 = ax1.transData.transform((0, v1))\n",
    "    _, y2 = ax2.transData.transform((0, v2))\n",
    "    adjust_yaxis(ax2,(y1-y2)/2,v2)\n",
    "    adjust_yaxis(ax1,(y2-y1)/2,v1)\n",
    "\n",
    "def adjust_yaxis(ax,ydif,v):\n",
    "    \"\"\"shift axis ax by ydiff, maintaining point v at the same location\"\"\"\n",
    "    inv = ax.transData.inverted()\n",
    "    _, dy = inv.transform((0, 0)) - inv.transform((0, ydif))\n",
    "    miny, maxy = ax.get_ylim()\n",
    "    miny, maxy = miny - v, maxy - v\n",
    "    if -miny>maxy or (-miny==maxy and dy > 0):\n",
    "        nminy = miny\n",
    "        nmaxy = miny*(maxy+dy)/(miny+dy)\n",
    "    else:\n",
    "        nmaxy = maxy\n",
    "        nminy = maxy*(miny+dy)/(maxy+dy)\n",
    "    ax.set_ylim(nminy+v, nmaxy+v)"
   ]
  },
  {
   "cell_type": "code",
   "execution_count": null,
   "metadata": {},
   "outputs": [],
   "source": [
    "imu_file=os.path.expanduser('~/Documents/log/2019-01-14T17-48-13/logstream_ImuNoCov.bin')\n",
    "odom_file=os.path.expanduser('~/Documents/log/2019-01-14T17-48-13/logstream_OdomNoCov.bin')\n",
    "cmd_file=os.path.expanduser('~/Documents/log/2019-01-14T17-48-13/logstream_AccelCmd.bin')"
   ]
  },
  {
   "cell_type": "code",
   "execution_count": null,
   "metadata": {},
   "outputs": [],
   "source": [
    "imu = np.dtype([('recvSec', '>u4'), ('recvUsec', '>u4'),\n",
    "               \n",
    "                ('seq', '>u4'),\n",
    "                ('timeBase', '>u2'), ('timeContext', '>u1'), ('timeSec', '>u4'), ('timeUsec', '>u4'),\n",
    "                ('frame_id', '>u4'),\n",
    "               \n",
    "                ('qx', '>f8'), ('qy', '>f8'), ('qz', '>f8'), ('qw', '>f8'),\n",
    "\n",
    "                ('wx', '>f8'), ('wy', '>f8'), ('wz', '>f8'),\n",
    "\n",
    "                ('ax', '>f8'), ('ay', '>f8'), ('az', '>f8')])\n",
    "\n",
    "odom = np.dtype([('recvSec', '>u4'), ('recvUsec', '>u4'),\n",
    "               \n",
    "                 ('seq', '>u4'),\n",
    "                 ('timeBase', '>u2'), ('timeContext', '>u1'), ('timeSec', '>u4'), ('timeUsec', '>u4'),\n",
    "                 ('frame_id', '>u4'),\n",
    "                 \n",
    "                 ('child_frame_id', '>u4'),\n",
    "\n",
    "                 ('x', '>f8'), ('y', '>f8'), ('z', '>f8'),\n",
    "               \n",
    "                 ('qx', '>f8'), ('qy', '>f8'), ('qz', '>f8'), ('qw', '>f8'),\n",
    "\n",
    "                 ('vx', '>f8'), ('vy', '>f8'), ('vz', '>f8'),\n",
    "\n",
    "                 ('wx', '>f8'), ('wy', '>f8'), ('wz', '>f8')])\n",
    "\n",
    "cmd = np.dtype([('recvSec', '>u4'), ('recvUsec', '>u4'),\n",
    "               \n",
    "                ('seq', '>u4'),\n",
    "                ('timeBase', '>u2'), ('timeContext', '>u1'), ('timeSec', '>u4'), ('timeUsec', '>u4'),\n",
    "                ('frame_id', '>u4'),\n",
    "\n",
    "                ('ax', '>f8'), ('ay', '>f8'), ('az', '>f8'),\n",
    "\n",
    "                ('alpha_x', '>f8'), ('alpha_y', '>f8'), ('alpha_z', '>f8')])"
   ]
  },
  {
   "cell_type": "code",
   "execution_count": null,
   "metadata": {},
   "outputs": [],
   "source": [
    "imu_dat = np.fromfile(imu_file, dtype=imu)\n",
    "imu_df = pd.DataFrame(imu_dat.byteswap().newbyteorder())"
   ]
  },
  {
   "cell_type": "code",
   "execution_count": null,
   "metadata": {},
   "outputs": [],
   "source": [
    "odom_dat = np.fromfile(odom_file, dtype=odom)\n",
    "odom_df = pd.DataFrame(odom_dat.byteswap().newbyteorder())"
   ]
  },
  {
   "cell_type": "code",
   "execution_count": null,
   "metadata": {},
   "outputs": [],
   "source": [
    "cmd_dat = np.fromfile(cmd_file, dtype=cmd)\n",
    "cmd_df = pd.DataFrame(cmd_dat.byteswap().newbyteorder())"
   ]
  },
  {
   "cell_type": "code",
   "execution_count": null,
   "metadata": {},
   "outputs": [],
   "source": [
    "imu_time = imu_df.timeSec + imu_df.timeUsec / (1000.0 * 1000.0)\n",
    "odom_time = odom_df.timeSec + odom_df.timeUsec / (1000.0 * 1000.0)\n",
    "cmd_time = cmd_df.timeSec + cmd_df.timeUsec / (1000.0 * 1000.0)"
   ]
  },
  {
   "cell_type": "code",
   "execution_count": null,
   "metadata": {},
   "outputs": [],
   "source": [
    "fig, ax1 = plt.subplots()\n",
    "\n",
    "ax1.plot(cmd_time, cmd_df.alpha_x, 'b*-')\n",
    "ax1.axhline(y=0, color='k')\n",
    "\n",
    "ax2 = ax1.twinx()\n",
    "ax2.plot(odom_time, odom_df.wx, 'r*-')\n",
    "\n",
    "align_yaxis(ax1, 0, ax2, 0)\n",
    "\n",
    "ax1.set_xlim(938.5, 940.5)"
   ]
  },
  {
   "cell_type": "code",
   "execution_count": null,
   "metadata": {},
   "outputs": [],
   "source": [
    "fig, ax1 = plt.subplots()\n",
    "\n",
    "ax1.plot(cmd_time, cmd_df.alpha_y, 'b*-')\n",
    "ax1.axhline(y=0, color='k')\n",
    "\n",
    "ax2 = ax1.twinx()\n",
    "ax2.plot(odom_time, odom_df.wy, 'r*-')\n",
    "\n",
    "align_yaxis(ax1, 0, ax2, 0)\n",
    "\n",
    "ax1.set_xlim(938.5, 940.5)"
   ]
  },
  {
   "cell_type": "code",
   "execution_count": null,
   "metadata": {},
   "outputs": [],
   "source": [
    "fig, ax1 = plt.subplots()\n",
    "\n",
    "ax1.plot(cmd_time, cmd_df.alpha_z, 'b')\n",
    "\n",
    "ax2 = ax1.twinx()\n",
    "ax2.plot(odom_time, odom_df.wz, 'r')\n",
    "\n",
    "align_yaxis(ax1, 0, ax2, 0)\n",
    "\n",
    "ax1.set_xlim(938.5, 940.5)"
   ]
  },
  {
   "cell_type": "code",
   "execution_count": null,
   "metadata": {},
   "outputs": [],
   "source": [
    "fig, ax1 = plt.subplots()\n",
    "\n",
    "plt.plot(odom_time, odom_df.qx, '')\n",
    "plt.plot(odom_time, odom_df.qy, '')\n",
    "plt.plot(odom_time, odom_df.qz, '')\n",
    "plt.plot(odom_time, odom_df.qw, '')\n",
    "\n",
    "ax1.set_xlim(938.5, 940.5)"
   ]
  },
  {
   "cell_type": "code",
   "execution_count": null,
   "metadata": {},
   "outputs": [],
   "source": [
    "fig, ax1 = plt.subplots()\n",
    "\n",
    "plt.plot(odom_time, odom_df.wx)\n",
    "plt.plot(odom_time, odom_df.wy)\n",
    "plt.plot(odom_time, odom_df.wz)\n",
    "\n",
    "ax1.set_xlim(938.5, 940.5)"
   ]
  },
  {
   "cell_type": "code",
   "execution_count": null,
   "metadata": {},
   "outputs": [],
   "source": [
    "plt.plot(odom_time, odom_df.x)\n",
    "plt.plot(odom_time, odom_df.y)\n",
    "plt.plot(odom_time, odom_df.z)"
   ]
  },
  {
   "cell_type": "code",
   "execution_count": null,
   "metadata": {},
   "outputs": [],
   "source": []
  }
 ],
 "metadata": {
  "kernelspec": {
   "display_name": "Python 3",
   "language": "python",
   "name": "python3"
  },
  "language_info": {
   "codemirror_mode": {
    "name": "ipython",
    "version": 3
   },
   "file_extension": ".py",
   "mimetype": "text/x-python",
   "name": "python",
   "nbconvert_exporter": "python",
   "pygments_lexer": "ipython3",
   "version": "3.7.1"
  }
 },
 "nbformat": 4,
 "nbformat_minor": 2
}

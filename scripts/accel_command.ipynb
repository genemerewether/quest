{
 "cells": [
  {
   "cell_type": "code",
   "execution_count": null,
   "metadata": {},
   "outputs": [],
   "source": [
    "import numpy as np\n",
    "import pandas as pd\n",
    "import os\n",
    "\n",
    "%matplotlib inline\n",
    "import matplotlib.pyplot as plt\n",
    "plt.rcParams['figure.figsize'] = [20, 10]"
   ]
  },
  {
   "cell_type": "code",
   "execution_count": null,
   "metadata": {},
   "outputs": [],
   "source": [
    "imu_file=os.path.expanduser('~/Documents/log/2019-01-08T10-17-13/logstream_ImuNoCov.bin')\n",
    "odom_file=os.path.expanduser('~/Documents/log/2019-01-08T10-17-13/logstream_OdomNoCov.bin')\n",
    "cmd_file=os.path.expanduser('~/Documents/log/2019-01-08T10-17-13/logstream_AccelCmd.bin')"
   ]
  },
  {
   "cell_type": "code",
   "execution_count": null,
   "metadata": {},
   "outputs": [],
   "source": [
    "# Create a dtype with the binary data format and the desired column names\n",
    "imu = np.dtype([('recvSec', '>u4'), ('recvUsec', '>u4'),\n",
    "               \n",
    "                ('seq', '>u4'),\n",
    "                ('timeBase', '>u2'), ('timeContext', '>u1'), ('timeSec', '>u4'), ('timeUsec', '>u4'),\n",
    "                ('frame_id', '>u4'),\n",
    "               \n",
    "                ('qx', '>f8'), ('qy', '>f8'), ('qz', '>f8'), ('qw', '>f8'),\n",
    "\n",
    "                ('wx', '>f8'), ('wy', '>f8'), ('wz', '>f8'),\n",
    "\n",
    "                ('ax', '>f8'), ('ay', '>f8'), ('az', '>f8')])\n",
    "\n",
    "odom = np.dtype([('recvSec', '>u4'), ('recvUsec', '>u4'),\n",
    "               \n",
    "                 ('seq', '>u4'),\n",
    "                 ('timeBase', '>u2'), ('timeContext', '>u1'), ('timeSec', '>u4'), ('timeUsec', '>u4'),\n",
    "                 ('frame_id', '>u4'),\n",
    "                 \n",
    "                 ('child_frame_id', '>u4'),\n",
    "\n",
    "                 ('x', '>f8'), ('y', '>f8'), ('z', '>f8'),\n",
    "               \n",
    "                 ('qx', '>f8'), ('qy', '>f8'), ('qz', '>f8'), ('qw', '>f8'),\n",
    "\n",
    "                 ('vx', '>f8'), ('vy', '>f8'), ('vz', '>f8'),\n",
    "\n",
    "                 ('wx', '>f8'), ('wy', '>f8'), ('wz', '>f8')])\n",
    "\n",
    "cmd = np.dtype([('recvSec', '>u4'), ('recvUsec', '>u4'),\n",
    "               \n",
    "                ('seq', '>u4'),\n",
    "                ('timeBase', '>u2'), ('timeContext', '>u1'), ('timeSec', '>u4'), ('timeUsec', '>u4'),\n",
    "                ('frame_id', '>u4'),\n",
    "\n",
    "                ('ax', '>f8'), ('ay', '>f8'), ('az', '>f8'),\n",
    "\n",
    "                ('alpha_x', '>f8'), ('alpha_y', '>f8'), ('alpha_z', '>f8')])"
   ]
  },
  {
   "cell_type": "code",
   "execution_count": null,
   "metadata": {},
   "outputs": [],
   "source": [
    "imu_dat = np.fromfile(imu_file, dtype=imu)\n",
    "imu_df = pd.DataFrame(imu_dat)"
   ]
  },
  {
   "cell_type": "code",
   "execution_count": null,
   "metadata": {},
   "outputs": [],
   "source": [
    "odom_dat = np.fromfile(odom_file, dtype=odom)\n",
    "odom_df = pd.DataFrame(odom_dat)"
   ]
  },
  {
   "cell_type": "code",
   "execution_count": null,
   "metadata": {},
   "outputs": [],
   "source": [
    "cmd_dat = np.fromfile(cmd_file, dtype=cmd)\n",
    "cmd_df = pd.DataFrame(cmd_dat)"
   ]
  },
  {
   "cell_type": "code",
   "execution_count": null,
   "metadata": {},
   "outputs": [],
   "source": [
    "imu_time = imu_df.timeSec + imu_df.timeUsec / (1000.0 * 1000.0)\n",
    "odom_time = odom_df.timeSec + odom_df.timeUsec / (1000.0 * 1000.0)\n",
    "cmd_time = cmd_df.timeSec + cmd_df.timeUsec / (1000.0 * 1000.0)"
   ]
  },
  {
   "cell_type": "code",
   "execution_count": null,
   "metadata": {},
   "outputs": [],
   "source": [
    "fig, ax1 = plt.subplots()\n",
    "\n",
    "ax1.plot(cmd_time, cmd_df.alpha_x, 'b')\n",
    "\n",
    "ax2 = ax1.twinx()\n",
    "ax2.plot(odom_time, odom_df.qx, 'r')"
   ]
  },
  {
   "cell_type": "code",
   "execution_count": null,
   "metadata": {},
   "outputs": [],
   "source": [
    "fig, ax1 = plt.subplots()\n",
    "\n",
    "ax1.plot(cmd_time, cmd_df.alpha_y, 'b')\n",
    "\n",
    "ax2 = ax1.twinx()\n",
    "ax2.plot(odom_time, odom_df.qy, 'r')"
   ]
  },
  {
   "cell_type": "code",
   "execution_count": null,
   "metadata": {},
   "outputs": [],
   "source": [
    "fig, ax1 = plt.subplots()\n",
    "\n",
    "ax1.plot(cmd_time, cmd_df.alpha_z, 'b')\n",
    "\n",
    "ax2 = ax1.twinx()\n",
    "ax2.plot(odom_time, odom_df.qz, 'r')"
   ]
  },
  {
   "cell_type": "code",
   "execution_count": null,
   "metadata": {},
   "outputs": [],
   "source": [
    "plt.plot(odom_df.qw)\n",
    "plt.plot(odom_df.qx)\n",
    "plt.plot(odom_df.qy)\n",
    "plt.plot(odom_df.qz)"
   ]
  },
  {
   "cell_type": "code",
   "execution_count": null,
   "metadata": {},
   "outputs": [],
   "source": [
    "plt.plot(odom_df.wx)\n",
    "plt.plot(odom_df.wy)\n",
    "plt.plot(odom_df.wz)"
   ]
  },
  {
   "cell_type": "code",
   "execution_count": null,
   "metadata": {},
   "outputs": [],
   "source": [
    "fig, ax1 = plt.subplots()\n",
    "\n",
    "ax1.plot(odom_time, odom_df.wx, 'b')\n",
    "\n",
    "ax2 = ax1.twinx()\n",
    "ax2.plot(imu_time, imu_df.wx, 'r')"
   ]
  },
  {
   "cell_type": "code",
   "execution_count": null,
   "metadata": {},
   "outputs": [],
   "source": [
    "fig, ax1 = plt.subplots()\n",
    "\n",
    "ax1.plot(odom_time, odom_df.wy, 'b')\n",
    "\n",
    "ax2 = ax1.twinx()\n",
    "ax2.plot(imu_time, imu_df.wy, 'r')"
   ]
  },
  {
   "cell_type": "code",
   "execution_count": null,
   "metadata": {},
   "outputs": [],
   "source": [
    "fig, ax1 = plt.subplots()\n",
    "\n",
    "ax1.plot(odom_time, odom_df.wz, 'b')\n",
    "\n",
    "ax2 = ax1.twinx()\n",
    "ax2.plot(imu_time, imu_df.wz, 'r')"
   ]
  },
  {
   "cell_type": "code",
   "execution_count": null,
   "metadata": {},
   "outputs": [],
   "source": []
  }
 ],
 "metadata": {
  "kernelspec": {
   "display_name": "Python 3",
   "language": "python",
   "name": "python3"
  },
  "language_info": {
   "codemirror_mode": {
    "name": "ipython",
    "version": 3
   },
   "file_extension": ".py",
   "mimetype": "text/x-python",
   "name": "python",
   "nbconvert_exporter": "python",
   "pygments_lexer": "ipython3",
   "version": "3.6.7"
  }
 },
 "nbformat": 4,
 "nbformat_minor": 2
}

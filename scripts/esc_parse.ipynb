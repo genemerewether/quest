{
 "cells": [
  {
   "cell_type": "code",
   "execution_count": null,
   "metadata": {},
   "outputs": [],
   "source": [
    "import numpy as np\n",
    "import pandas as pd\n",
    "import os\n",
    "\n",
    "%matplotlib inline\n",
    "import matplotlib.pyplot as plt"
   ]
  },
  {
   "cell_type": "code",
   "execution_count": null,
   "metadata": {},
   "outputs": [],
   "source": [
    "file1=os.path.expanduser('~/Documents/log/2019-01-02T18-36-25/logstream_Ser.bin')\n",
    "file2=os.path.expanduser('~/Documents/log/2019-01-03T09-10-12/logstream_Ser.bin')"
   ]
  },
  {
   "cell_type": "code",
   "execution_count": null,
   "metadata": {},
   "outputs": [],
   "source": [
    "# Create a dtype with the binary data format and the desired column names\n",
    "dt = np.dtype([('idx', '>u1'),\n",
    "               ('cmdSec', '>u4'), ('cmdUsec', '>u4'), ('cmd', '>u4'),\n",
    "               ('fbSec', '>u4'), ('fbUsec', '>u4'),\n",
    "               \n",
    "               ('length', '>u2'),\n",
    "               ('counts', '>u2'),\n",
    "               ('voltage', '>u2'),\n",
    "               ('temperature', '>u2'),\n",
    "               ('current', '>u2'),\n",
    "               ('id', 'u1')])"
   ]
  },
  {
   "cell_type": "code",
   "execution_count": null,
   "metadata": {},
   "outputs": [],
   "source": [
    "data1 = np.fromfile(file1, dtype=dt)\n",
    "df1 = pd.DataFrame(data1)\n",
    "\n",
    "data2 = np.fromfile(file2, dtype=dt)\n",
    "df2 = pd.DataFrame(data2)"
   ]
  },
  {
   "cell_type": "code",
   "execution_count": null,
   "metadata": {},
   "outputs": [],
   "source": [
    "df1=df1.loc[(df1['id'] == 171) & (df1['idx'] == 0)]\n",
    "df2=df2.loc[(df2['id'] == 171) & (df2['idx'] == 0)]"
   ]
  },
  {
   "cell_type": "code",
   "execution_count": null,
   "metadata": {},
   "outputs": [],
   "source": [
    "plt.plot(df1.counts)"
   ]
  },
  {
   "cell_type": "code",
   "execution_count": null,
   "metadata": {},
   "outputs": [],
   "source": [
    "plt.plot(df2.counts)"
   ]
  },
  {
   "cell_type": "code",
   "execution_count": null,
   "metadata": {},
   "outputs": [],
   "source": []
  }
 ],
 "metadata": {
  "kernelspec": {
   "display_name": "Python 3",
   "language": "python",
   "name": "python3"
  },
  "language_info": {
   "codemirror_mode": {
    "name": "ipython",
    "version": 3
   },
   "file_extension": ".py",
   "mimetype": "text/x-python",
   "name": "python",
   "nbconvert_exporter": "python",
   "pygments_lexer": "ipython3",
   "version": "3.6.7"
  }
 },
 "nbformat": 4,
 "nbformat_minor": 2
}

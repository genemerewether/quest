{
 "cells": [
  {
   "cell_type": "code",
   "execution_count": null,
   "metadata": {},
   "outputs": [],
   "source": [
    "import numpy as np\n",
    "import pandas as pd\n",
    "import os\n",
    "from scipy import optimize\n",
    "\n",
    "%matplotlib inline\n",
    "import matplotlib.pyplot as plt\n",
    "plt.rcParams['figure.figsize'] = [20, 10]"
   ]
  },
  {
   "cell_type": "code",
   "execution_count": null,
   "metadata": {},
   "outputs": [],
   "source": [
    "def align_yaxis(ax1, v1, ax2, v2):\n",
    "    \"\"\"adjust ax2 ylimit so that v2 in ax2 is aligned to v1 in ax1\"\"\"\n",
    "    _, y1 = ax1.transData.transform((0, v1))\n",
    "    _, y2 = ax2.transData.transform((0, v2))\n",
    "    adjust_yaxis(ax2,(y1-y2)/2,v2)\n",
    "    adjust_yaxis(ax1,(y2-y1)/2,v1)\n",
    "\n",
    "def adjust_yaxis(ax,ydif,v):\n",
    "    \"\"\"shift axis ax by ydiff, maintaining point v at the same location\"\"\"\n",
    "    inv = ax.transData.inverted()\n",
    "    _, dy = inv.transform((0, 0)) - inv.transform((0, ydif))\n",
    "    miny, maxy = ax.get_ylim()\n",
    "    miny, maxy = miny - v, maxy - v\n",
    "    if -miny>maxy or (-miny==maxy and dy > 0):\n",
    "        nminy = miny\n",
    "        nmaxy = miny*(maxy+dy)/(miny+dy)\n",
    "    else:\n",
    "        nmaxy = maxy\n",
    "        nminy = maxy*(miny+dy)/(maxy+dy)\n",
    "    ax.set_ylim(nminy+v, nmaxy+v)\n",
    "    \n",
    "def fit(x, x0, x1, b, k1, k2, k3):\n",
    "    condlist = [x < x0, (x >= x0) & (x < x1), x >= x1]\n",
    "    funclist = [lambda x: k1*x + b, lambda x: k1*x0 + b + k2*(x-x0), lambda x: k1*x0 + b + k2*(x1-x0) + k3*(x - x1)]\n",
    "    return np.piecewise(x, condlist, funclist)\n",
    "\n",
    "def invfit(x, x0, x1, b, k1, k2, k3):\n",
    "    condlist = [x < k1*x0+b, (x >= k1*x0+b) & (x < k1*x0 + b + k2*(x1-x0)), x >= k1*x0 + b + k2*(x1-x0)]\n",
    "    funclist = [lambda x: (x - b) / k1, lambda x: (x - k1*x0 - b) / k2 + x0, lambda x: (x - k1*x0 - b - k2*(x1-x0)) / k3 + x1]\n",
    "    return np.piecewise(x, condlist, funclist)\n",
    "\n",
    "def getinvcoeffs(x0, x1, b, k1, k2, k3):\n",
    "    return np.array([k1*x0+b, k1*x0 + b + k2*(x1-x0), -b / k1, 1.0/k1, 1.0/k2, 1.0/k3])"
   ]
  },
  {
   "cell_type": "code",
   "execution_count": null,
   "metadata": {},
   "outputs": [],
   "source": [
    "esc_file=os.path.expanduser('~/Documents/log/2019-01-17T09-25-04/logstream_ActAdapEsc.bin')\n",
    "torque_thrust_file=os.path.expanduser('~/Documents/Log_2019-01-17_092649.csv')"
   ]
  },
  {
   "cell_type": "code",
   "execution_count": null,
   "metadata": {},
   "outputs": [],
   "source": [
    "esc_fmt = np.dtype([('idx', '>u1'),\n",
    "               ('cmdSec', '>u4'), ('cmdUsec', '>u4'), ('cmd', '>u4'), ('cmdVel', '>f8'),\n",
    "               ('fbSec', '>u4'), ('fbUsec', '>u4'), ('angVel', '>f8'),\n",
    "               \n",
    "               ('length', '>u2'),\n",
    "               ('counts', '>u2'),\n",
    "               ('voltage', '>u2'),\n",
    "               ('temperature', '>u2'),\n",
    "               ('current', '>u2'),\n",
    "               ('id', 'u1')])"
   ]
  },
  {
   "cell_type": "code",
   "execution_count": null,
   "metadata": {},
   "outputs": [],
   "source": [
    "esc_dat = np.fromfile(esc_file, dtype=esc_fmt)\n",
    "esc = pd.DataFrame(esc_dat.byteswap().newbyteorder())\n",
    "\n",
    "torque_thrust = pd.read_csv(torque_thrust_file)\n",
    "torque=torque_thrust.loc[(~torque_thrust['Time (s)'].isna()) & (~torque_thrust['Torque (N\\xc2\\xb7m)'].isna())]\n",
    "thrust=torque_thrust.loc[(~torque_thrust['Time (s)'].isna()) & (~torque_thrust['Thrust (kgf)'].isna())]\n",
    "\n",
    "mot0=esc.loc[(esc['idx'] == 0) & (esc['cmd'] <= 800)]\n",
    "mot1=esc.loc[(esc['idx'] == 1) & (esc['cmd'] <= 800)]\n",
    "mot2=esc.loc[(esc['idx'] == 2) & (esc['cmd'] <= 800)]\n",
    "mot3=esc.loc[(esc['idx'] == 3) & (esc['cmd'] <= 800)]\n",
    "\n",
    "mot0_cmdTime = mot0.cmdSec + mot0.cmdUsec / (1000.0 * 1000.0)\n",
    "mot1_cmdTime = mot1.cmdSec + mot1.cmdUsec / (1000.0 * 1000.0)\n",
    "mot2_cmdTime = mot2.cmdSec + mot2.cmdUsec / (1000.0 * 1000.0)\n",
    "mot3_cmdTime = mot3.cmdSec + mot3.cmdUsec / (1000.0 * 1000.0)\n",
    "\n",
    "mot0_fbTime = mot0.fbSec + mot0.fbUsec / (1000.0 * 1000.0)\n",
    "mot1_fbTime = mot1.fbSec + mot1.fbUsec / (1000.0 * 1000.0)\n",
    "mot2_fbTime = mot2.fbSec + mot2.fbUsec / (1000.0 * 1000.0)\n",
    "mot3_fbTime = mot3.fbSec + mot3.fbUsec / (1000.0 * 1000.0)"
   ]
  },
  {
   "cell_type": "code",
   "execution_count": null,
   "metadata": {},
   "outputs": [],
   "source": [
    "cmdHi = mot0.cmd[(mot0.cmd > 400) & (mot0.angVel > 2000)].values.astype(\"float64\")\n",
    "angVelHi = mot0.angVel[(mot0.cmd > 400) & (mot0.angVel > 2000)].values\n",
    "A = np.vstack([cmdHi, np.ones(len(cmdHi))]).T\n",
    "mHi, cHi = np.linalg.lstsq(A, angVelHi)[0]\n",
    "print mHi, cHi\n",
    "plt.plot(cmdHi, angVelHi, '*')\n",
    "plt.plot(cmdHi, mHi*cmdHi + cHi)"
   ]
  },
  {
   "cell_type": "code",
   "execution_count": null,
   "metadata": {},
   "outputs": [],
   "source": [
    "cmdMed = mot0.cmd[(mot0.cmd > 100) & (mot0.angVel > 1000)].values.astype(\"float64\")\n",
    "angVelMed = mot0.angVel[(mot0.cmd > 100) & (mot0.angVel > 1000)].values\n",
    "A = np.vstack([cmdMed, np.ones(len(cmdMed))]).T\n",
    "mMed, cMed = np.linalg.lstsq(A, angVelMed)[0]\n",
    "print mMed, cMed\n",
    "plt.plot(cmdMed, angVelMed, '*')\n",
    "plt.plot(cmdMed, mMed*cmdMed + cMed)"
   ]
  },
  {
   "cell_type": "code",
   "execution_count": null,
   "metadata": {},
   "outputs": [],
   "source": [
    "cmdLow = mot0.cmd[(mot0.cmd > 0) & (mot0.cmd < 200) & (mot0.angVel < 1200)].values.astype(\"float64\")\n",
    "angVelLow = mot0.angVel[(mot0.cmd > 0) & (mot0.cmd < 200) & (mot0.angVel < 1200)].values\n",
    "A = np.vstack([cmdLow, np.ones(len(cmdLow))]).T\n",
    "mLow, cLow = np.linalg.lstsq(A, angVelLow)[0]\n",
    "print mLow, cLow\n",
    "plt.plot(cmdLow, angVelLow, '*')\n",
    "plt.plot(cmdLow, mLow*cmdLow + cLow)"
   ]
  },
  {
   "cell_type": "code",
   "execution_count": null,
   "metadata": {},
   "outputs": [],
   "source": [
    "ax1=plt.subplot(2, 1, 1)\n",
    "\n",
    "ax1.plot(mot0_cmdTime, mot0.cmd, 'b')\n",
    "ax1.plot(mot0_fbTime, np.clip(invfit(mot0.angVel.values, 100, 300, 600, 6*12.5/11.1, 3.5*12.5/11.1, 2.14*12.5/11.1), 0, None), 'go',\n",
    "         linestyle='None', markersize=1)\n",
    "\n",
    "ax2=plt.subplot(2, 1, 2)\n",
    "ax2.plot(mot0_cmdTime, mot0.cmdVel - mot0.angVel)"
   ]
  },
  {
   "cell_type": "code",
   "execution_count": null,
   "metadata": {},
   "outputs": [],
   "source": [
    "cmd = mot0.cmd.values.astype(\"float64\")\n",
    "angVel = mot0.angVel.values\n",
    "plt.plot(cmd, angVel, '*')\n",
    "plt.plot(cmd, fit(cmd, 100, 300, 600, 6*12.5/11.1, 3.5*12.5/11.1, 2.14*12.5/11.1), 'go', linestyle='None')\n",
    "plt.plot(cmdLow, mLow*cmdLow + cLow)\n",
    "plt.plot(cmdMed, mMed*cmdMed + cMed)\n",
    "plt.plot(cmdHi, mHi*cmdHi + cHi)"
   ]
  },
  {
   "cell_type": "code",
   "execution_count": null,
   "metadata": {},
   "outputs": [],
   "source": [
    "fig, ax1 = plt.subplots()\n",
    "torque_cut = torque[50:-35]\n",
    "\n",
    "ax1.plot(torque_cut['Time (s)'], torque_cut['Torque (N\\xc2\\xb7m)'], '*')\n",
    "mot0_fbTime_zero = mot0_fbTime - 1261.1\n",
    "\n",
    "ax2 = ax1.twinx()\n",
    "ax2.plot(mot0_fbTime_zero, mot0.angVel)\n",
    "\n",
    "idxMax = mot0.angVel.idxmax()\n",
    "t0 = mot0_fbTime_zero[0]\n",
    "tMax = mot0_fbTime_zero[idxMax]\n",
    "tLast = mot0_fbTime_zero.iloc[-1]\n",
    "torque_funclist = [lambda x: (x - t0) * mot0.angVel.max() / (tMax - t0),\n",
    "                   lambda x: mot0.angVel.max() + (x - tMax) * mot0.angVel.max() / (tMax - tLast)]\n",
    "\n",
    "angVel_torque_mapped = np.piecewise(torque_cut['Time (s)'].values,\n",
    "                                    [torque_cut['Time (s)'].values < tMax, torque_cut['Time (s)'].values >=tMax],\n",
    "                                    torque_funclist)\n",
    "ax2.plot(torque_cut['Time (s)'], angVel_torque_mapped)\n",
    "torque_fit = np.polyfit(angVel_torque_mapped, torque_cut['Torque (N\\xc2\\xb7m)'], 2)\n",
    "torque_poly = np.poly1d(torque_fit)\n",
    "ax1.plot(torque_cut['Time (s)'], torque_poly(angVel_torque_mapped), '*')\n",
    "\n",
    "align_yaxis(ax1, 0, ax2, 0)\n",
    "torque_poly"
   ]
  },
  {
   "cell_type": "code",
   "execution_count": null,
   "metadata": {},
   "outputs": [],
   "source": [
    "fig, ax1 = plt.subplots()\n",
    "thrust_cut = thrust[50:-35]\n",
    "\n",
    "ax1.plot(thrust_cut['Time (s)'], thrust_cut['Thrust (kgf)'], '*')\n",
    "mot0_fbTime_zero = mot0_fbTime - 1261.1\n",
    "\n",
    "ax2 = ax1.twinx()\n",
    "ax2.plot(mot0_fbTime_zero, mot0.angVel)\n",
    "\n",
    "idxMax = mot0.angVel.idxmax()\n",
    "t0 = mot0_fbTime_zero[0]\n",
    "tMax = mot0_fbTime_zero[idxMax]\n",
    "tLast = mot0_fbTime_zero.iloc[-1]\n",
    "thrust_funclist = [lambda x: (x - t0) * mot0.angVel.max() / (tMax - t0),\n",
    "                   lambda x: mot0.angVel.max() + (x - tMax) * mot0.angVel.max() / (tMax - tLast)]\n",
    "\n",
    "angVel_thrust_mapped = np.piecewise(thrust_cut['Time (s)'].values,\n",
    "                                    [thrust_cut['Time (s)'].values < tMax, thrust_cut['Time (s)'].values >=tMax],\n",
    "                                    thrust_funclist)\n",
    "ax2.plot(thrust_cut['Time (s)'], angVel_thrust_mapped)\n",
    "\n",
    "thrust_fit = np.polyfit(angVel_thrust_mapped, thrust_cut['Thrust (kgf)'], 2)\n",
    "thrust_poly = np.poly1d(thrust_fit)\n",
    "ax1.plot(thrust_cut['Time (s)'], thrust_poly(angVel_thrust_mapped), '*')\n",
    "\n",
    "align_yaxis(ax1, 0, ax2, 0)\n",
    "thrust_poly"
   ]
  },
  {
   "cell_type": "code",
   "execution_count": null,
   "metadata": {},
   "outputs": [],
   "source": []
  }
 ],
 "metadata": {
  "kernelspec": {
   "display_name": "Python 2",
   "language": "python",
   "name": "python2"
  },
  "language_info": {
   "codemirror_mode": {
    "name": "ipython",
    "version": 2
   },
   "file_extension": ".py",
   "mimetype": "text/x-python",
   "name": "python",
   "nbconvert_exporter": "python",
   "pygments_lexer": "ipython2",
   "version": "2.7.6"
  }
 },
 "nbformat": 4,
 "nbformat_minor": 2
}

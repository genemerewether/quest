{
 "cells": [
  {
   "cell_type": "code",
   "execution_count": null,
   "metadata": {},
   "outputs": [],
   "source": [
    "%matplotlib inline\n",
    "import quest_gncpy as gnc\n",
    "import numpy as np\n",
    "import matplotlib.pyplot as plt"
   ]
  },
  {
   "cell_type": "code",
   "execution_count": null,
   "metadata": {},
   "outputs": [],
   "source": [
    "s = gnc.SignalGen()\n",
    "dt = 0.001\n",
    "tf = 300\n",
    "d = np.zeros(int(tf/dt))\n",
    "ddt = np.zeros(d.size)\n",
    "s.SetChirp(1, 10, 1, d.size, dt)\n",
    "for i in range(d.size):\n",
    "    tup = s.GetScalar()\n",
    "    if tup[2]:\n",
    "        print \"error %d on iter %u\"%(tup[2], i)\n",
    "        break\n",
    "    d[i] = tup[0]\n",
    "    ddt[i] = tup[1]\n",
    "t = np.arange(0, tf, dt)\n",
    "idx = int(5/dt)\n",
    "plt.plot(t[:idx], d[:idx])\n",
    "plt.plot(t[:idx], ddt[:idx])"
   ]
  },
  {
   "cell_type": "code",
   "execution_count": null,
   "metadata": {},
   "outputs": [],
   "source": [
    "from scipy import signal\n",
    "f, t, Sxx = signal.spectrogram(d, 1/dt, nperseg=10000)\n",
    "plt.pcolormesh(t, f[:100], Sxx[:100,:])\n",
    "plt.ylabel('Frequency [Hz]')\n",
    "plt.xlabel('Time [sec]')\n",
    "plt.show()"
   ]
  },
  {
   "cell_type": "code",
   "execution_count": null,
   "metadata": {},
   "outputs": [],
   "source": []
  }
 ],
 "metadata": {
  "kernelspec": {
   "display_name": "Python 2",
   "language": "python",
   "name": "python2"
  },
  "language_info": {
   "codemirror_mode": {
    "name": "ipython",
    "version": 2
   },
   "file_extension": ".py",
   "mimetype": "text/x-python",
   "name": "python",
   "nbconvert_exporter": "python",
   "pygments_lexer": "ipython2",
   "version": "2.7.15"
  }
 },
 "nbformat": 4,
 "nbformat_minor": 2
}

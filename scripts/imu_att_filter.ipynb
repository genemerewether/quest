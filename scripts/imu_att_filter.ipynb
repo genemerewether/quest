{
 "cells": [
  {
   "cell_type": "code",
   "execution_count": 1,
   "metadata": {},
   "outputs": [],
   "source": [
    "import numpy as np\n",
    "import pandas as pd\n",
    "import os\n",
    "import scipy\n",
    "import scipy.signal\n",
    "import sys\n",
    "\n",
    "%matplotlib inline\n",
    "import matplotlib.pyplot as plt\n",
    "plt.rcParams['figure.figsize'] = [20, 10]\n",
    "\n",
    "sys.path.append('../quest_gnc/build36/')\n",
    "from quest_gncpy import *"
   ]
  },
  {
   "cell_type": "code",
   "execution_count": 2,
   "metadata": {},
   "outputs": [],
   "source": [
    "def align_yaxis(ax1, v1, ax2, v2):\n",
    "    \"\"\"adjust ax2 ylimit so that v2 in ax2 is aligned to v1 in ax1\"\"\"\n",
    "    _, y1 = ax1.transData.transform((0, v1))\n",
    "    _, y2 = ax2.transData.transform((0, v2))\n",
    "    adjust_yaxis(ax2,(y1-y2)/2,v2)\n",
    "    adjust_yaxis(ax1,(y2-y1)/2,v1)\n",
    "\n",
    "def adjust_yaxis(ax,ydif,v):\n",
    "    \"\"\"shift axis ax by ydiff, maintaining point v at the same location\"\"\"\n",
    "    inv = ax.transData.inverted()\n",
    "    _, dy = inv.transform((0, 0)) - inv.transform((0, ydif))\n",
    "    miny, maxy = ax.get_ylim()\n",
    "    miny, maxy = miny - v, maxy - v\n",
    "    if -miny>maxy or (-miny==maxy and dy > 0):\n",
    "        nminy = miny\n",
    "        nmaxy = miny*(maxy+dy)/(miny+dy)\n",
    "    else:\n",
    "        nmaxy = maxy\n",
    "        nminy = maxy*(miny+dy)/(maxy+dy)\n",
    "    ax.set_ylim(nminy+v, nmaxy+v)"
   ]
  },
  {
   "cell_type": "code",
   "execution_count": 3,
   "metadata": {},
   "outputs": [],
   "source": [
    "imu_file=os.path.expanduser('~/Documents/log/2019-03-28T14-08-19/logstream_ImuNoCov.bin')\n",
    "odom_file=os.path.expanduser('~/Documents/log/2019-03-28T14-08-19/logstream_OdomNoCov.bin')"
   ]
  },
  {
   "cell_type": "code",
   "execution_count": 4,
   "metadata": {},
   "outputs": [],
   "source": [
    "imu = np.dtype([('recvSec', '>u4'), ('recvUsec', '>u4'),\n",
    "               \n",
    "                ('seq', '>u4'),\n",
    "                ('timeBase', '>u2'), ('timeContext', '>u1'), ('timeSec', '>u4'), ('timeUsec', '>u4'),\n",
    "                ('frame_id', '>u4'),\n",
    "               \n",
    "                ('qx', '>f8'), ('qy', '>f8'), ('qz', '>f8'), ('qw', '>f8'),\n",
    "\n",
    "                ('wx', '>f8'), ('wy', '>f8'), ('wz', '>f8'),\n",
    "\n",
    "                ('ax', '>f8'), ('ay', '>f8'), ('az', '>f8')])\n",
    "\n",
    "odom = np.dtype([('recvSec', '>u4'), ('recvUsec', '>u4'),\n",
    "               \n",
    "                 ('seq', '>u4'),\n",
    "                 ('timeBase', '>u2'), ('timeContext', '>u1'), ('timeSec', '>u4'), ('timeUsec', '>u4'),\n",
    "                 ('frame_id', '>u4'),\n",
    "                 \n",
    "                 ('child_frame_id', '>u4'),\n",
    "\n",
    "                 ('x', '>f8'), ('y', '>f8'), ('z', '>f8'),\n",
    "               \n",
    "                 ('qx', '>f8'), ('qy', '>f8'), ('qz', '>f8'), ('qw', '>f8'),\n",
    "\n",
    "                 ('vx', '>f8'), ('vy', '>f8'), ('vz', '>f8'),\n",
    "\n",
    "                 ('wx', '>f8'), ('wy', '>f8'), ('wz', '>f8')])"
   ]
  },
  {
   "cell_type": "code",
   "execution_count": 5,
   "metadata": {},
   "outputs": [],
   "source": [
    "imu_dat = np.fromfile(imu_file, dtype=imu)\n",
    "imu_df = pd.DataFrame(imu_dat.byteswap().newbyteorder())"
   ]
  },
  {
   "cell_type": "code",
   "execution_count": 6,
   "metadata": {},
   "outputs": [],
   "source": [
    "odom_dat = np.fromfile(odom_file, dtype=odom)\n",
    "odom_df = pd.DataFrame(odom_dat.byteswap().newbyteorder())"
   ]
  },
  {
   "cell_type": "code",
   "execution_count": 7,
   "metadata": {},
   "outputs": [],
   "source": [
    "imu_time = imu_df.timeSec + imu_df.timeUsec / (1000.0 * 1000.0)\n",
    "odom_time = odom_df.timeSec + odom_df.timeUsec / (1000.0 * 1000.0)"
   ]
  },
  {
   "cell_type": "code",
   "execution_count": 24,
   "metadata": {},
   "outputs": [],
   "source": [
    "a = AttFilter()\n",
    "a.SetTimeStep(np.mean(np.diff(imu_time)))\n",
    "a.SetAccelGain(0.1)\n",
    "a.SetBiasAlpha(0.1)\n",
    "a.SetSteadyStateThresh(0.5, 0.01, 0.2)\n",
    "\n",
    "x_w = np.ndarray(shape=(3,imu_time.size), dtype=float)\n",
    "w_euler_b = np.ndarray(shape=(3,imu_time.size), dtype=float)\n",
    "w_q_b = np.ndarray(shape=(4,imu_time.size), dtype=float)\n",
    "v_b = np.ndarray(shape=(3,imu_time.size), dtype=float)\n",
    "omega_b = np.ndarray(shape=(3,imu_time.size), dtype=float)"
   ]
  },
  {
   "cell_type": "code",
   "execution_count": 25,
   "metadata": {},
   "outputs": [],
   "source": [
    "for index, row in imu_df.iterrows():\n",
    "    i = ImuSample()\n",
    "    i.t = imu_time[index]\n",
    "    i.omega_b = [row.wx, row.wy, row.wz]\n",
    "    i.a_b = [row.ax, row.ay, row.az]\n",
    "    a.AddImu(i)\n",
    "    a.PropagateState()\n",
    "    x_w[:, index], w_euler_b[:, index], w_q_b[:, index], v_b[:, index], omega_b[:, index], _ = a.GetState()"
   ]
  },
  {
   "cell_type": "code",
   "execution_count": 33,
   "metadata": {},
   "outputs": [
    {
     "data": {
      "text/plain": [
       "[<matplotlib.lines.Line2D at 0x7f21e1423438>]"
      ]
     },
     "execution_count": 33,
     "metadata": {},
     "output_type": "execute_result"
    },
    {
     "data": {
      "image/png": "[encoded data removed]",
      "text/plain": [
       "<Figure size 432x288 with 1 Axes>"
      ]
     },
     "metadata": {},
     "output_type": "display_data"
    }
   ],
   "source": [
    "plt.plot(w_q_b[0, :], '')\n",
    "plt.plot(odom_df.qx, '')"
   ]
  },
  {
   "cell_type": "code",
   "execution_count": 27,
   "metadata": {},
   "outputs": [
    {
     "data": {
      "text/plain": [
       "[<matplotlib.lines.Line2D at 0x7f21e16b5b70>]"
      ]
     },
     "execution_count": 27,
     "metadata": {},
     "output_type": "execute_result"
    },
    {
     "data": {
      "image/png": "[encoded data removed]",
      "text/plain": [
       "<Figure size 432x288 with 1 Axes>"
      ]
     },
     "metadata": {},
     "output_type": "display_data"
    }
   ],
   "source": [
    "plt.plot(w_q_b[1, :], '')\n",
    "plt.plot(odom_df.qy, '')"
   ]
  },
  {
   "cell_type": "code",
   "execution_count": 28,
   "metadata": {},
   "outputs": [
    {
     "data": {
      "text/plain": [
       "[<matplotlib.lines.Line2D at 0x7f21e169f198>]"
      ]
     },
     "execution_count": 28,
     "metadata": {},
     "output_type": "execute_result"
    },
    {
     "data": {
      "image/png": "[encoded data removed]",
      "text/plain": [
       "<Figure size 432x288 with 1 Axes>"
      ]
     },
     "metadata": {},
     "output_type": "display_data"
    }
   ],
   "source": [
    "plt.plot(w_q_b[2, :], '')\n",
    "plt.plot(odom_df.qz, '')"
   ]
  },
  {
   "cell_type": "code",
   "execution_count": null,
   "metadata": {},
   "outputs": [],
   "source": []
  }
 ],
 "metadata": {
  "kernelspec": {
   "display_name": "Python 3",
   "language": "python",
   "name": "python3"
  },
  "language_info": {
   "codemirror_mode": {
    "name": "ipython",
    "version": 3
   },
   "file_extension": ".py",
   "mimetype": "text/x-python",
   "name": "python",
   "nbconvert_exporter": "python",
   "pygments_lexer": "ipython3",
   "version": "3.6.7"
  }
 },
 "nbformat": 4,
 "nbformat_minor": 2
}
